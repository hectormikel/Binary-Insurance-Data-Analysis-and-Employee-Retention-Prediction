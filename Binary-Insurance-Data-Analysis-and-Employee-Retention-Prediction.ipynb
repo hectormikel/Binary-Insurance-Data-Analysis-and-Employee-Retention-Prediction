{
 "cells": [
  {
   "cell_type": "markdown",
   "metadata": {},
   "source": [
    "# Binary-Insurance-Data-Analysis-and-Employee-Retention-Prediction"
   ]
  },
  {
   "cell_type": "markdown",
   "metadata": {},
   "source": [
    "## Insurance"
   ]
  },
  {
   "cell_type": "code",
   "execution_count": 15,
   "metadata": {},
   "outputs": [],
   "source": [
    "import polars as pl \n",
    "import pandas as pd \n",
    "import matplotlib.pyplot as plt \n",
    "from sklearn.model_selection import train_test_split\n",
    "from sklearn.linear_model import LogisticRegression"
   ]
  },
  {
   "cell_type": "code",
   "execution_count": 2,
   "metadata": {},
   "outputs": [
    {
     "data": {
      "text/html": [
       "<div><style>\n",
       ".dataframe > thead > tr,\n",
       ".dataframe > tbody > tr {\n",
       "  text-align: right;\n",
       "  white-space: pre-wrap;\n",
       "}\n",
       "</style>\n",
       "<small>shape: (27, 2)</small><table border=\"1\" class=\"dataframe\"><thead><tr><th>age</th><th>bought_insurance</th></tr><tr><td>i64</td><td>i64</td></tr></thead><tbody><tr><td>22</td><td>0</td></tr><tr><td>25</td><td>0</td></tr><tr><td>47</td><td>1</td></tr><tr><td>52</td><td>0</td></tr><tr><td>46</td><td>1</td></tr><tr><td>&hellip;</td><td>&hellip;</td></tr><tr><td>40</td><td>1</td></tr><tr><td>45</td><td>1</td></tr><tr><td>50</td><td>1</td></tr><tr><td>54</td><td>1</td></tr><tr><td>23</td><td>0</td></tr></tbody></table></div>"
      ],
      "text/plain": [
       "shape: (27, 2)\n",
       "┌─────┬──────────────────┐\n",
       "│ age ┆ bought_insurance │\n",
       "│ --- ┆ ---              │\n",
       "│ i64 ┆ i64              │\n",
       "╞═════╪══════════════════╡\n",
       "│ 22  ┆ 0                │\n",
       "│ 25  ┆ 0                │\n",
       "│ 47  ┆ 1                │\n",
       "│ 52  ┆ 0                │\n",
       "│ 46  ┆ 1                │\n",
       "│ …   ┆ …                │\n",
       "│ 40  ┆ 1                │\n",
       "│ 45  ┆ 1                │\n",
       "│ 50  ┆ 1                │\n",
       "│ 54  ┆ 1                │\n",
       "│ 23  ┆ 0                │\n",
       "└─────┴──────────────────┘"
      ]
     },
     "execution_count": 2,
     "metadata": {},
     "output_type": "execute_result"
    }
   ],
   "source": [
    "df = pl.read_csv('insurance_data.csv')\n",
    "df "
   ]
  },
  {
   "cell_type": "code",
   "execution_count": 5,
   "metadata": {},
   "outputs": [
    {
     "data": {
      "text/plain": [
       "<matplotlib.collections.PathCollection at 0x122705580>"
      ]
     },
     "execution_count": 5,
     "metadata": {},
     "output_type": "execute_result"
    },
    {
     "data": {
      "image/png": "[encoded data removed]",
      "text/plain": [
       "<Figure size 640x480 with 1 Axes>"
      ]
     },
     "metadata": {},
     "output_type": "display_data"
    }
   ],
   "source": [
    "plt.scatter(df['age'], df['bought_insurance'], marker='+', color='red')"
   ]
  },
  {
   "cell_type": "code",
   "execution_count": 6,
   "metadata": {},
   "outputs": [
    {
     "data": {
      "text/plain": [
       "(27, 2)"
      ]
     },
     "execution_count": 6,
     "metadata": {},
     "output_type": "execute_result"
    }
   ],
   "source": [
    "df.shape"
   ]
  },
  {
   "cell_type": "code",
   "execution_count": 23,
   "metadata": {},
   "outputs": [],
   "source": [
    "X = df[['age']]\n",
    "y = df['bought_insurance']"
   ]
  },
  {
   "cell_type": "code",
   "execution_count": 24,
   "metadata": {},
   "outputs": [],
   "source": [
    "X_train, X_test, y_train, y_test = train_test_split(X, y, test_size=0.1)"
   ]
  },
  {
   "cell_type": "code",
   "execution_count": 25,
   "metadata": {},
   "outputs": [
    {
     "data": {
      "text/html": [
       "<div><style>\n",
       ".dataframe > thead > tr,\n",
       ".dataframe > tbody > tr {\n",
       "  text-align: right;\n",
       "  white-space: pre-wrap;\n",
       "}\n",
       "</style>\n",
       "<small>shape: (24, 1)</small><table border=\"1\" class=\"dataframe\"><thead><tr><th>age</th></tr><tr><td>i64</td></tr></thead><tbody><tr><td>18</td></tr><tr><td>21</td></tr><tr><td>29</td></tr><tr><td>61</td></tr><tr><td>62</td></tr><tr><td>&hellip;</td></tr><tr><td>52</td></tr><tr><td>45</td></tr><tr><td>40</td></tr><tr><td>18</td></tr><tr><td>58</td></tr></tbody></table></div>"
      ],
      "text/plain": [
       "shape: (24, 1)\n",
       "┌─────┐\n",
       "│ age │\n",
       "│ --- │\n",
       "│ i64 │\n",
       "╞═════╡\n",
       "│ 18  │\n",
       "│ 21  │\n",
       "│ 29  │\n",
       "│ 61  │\n",
       "│ 62  │\n",
       "│ …   │\n",
       "│ 52  │\n",
       "│ 45  │\n",
       "│ 40  │\n",
       "│ 18  │\n",
       "│ 58  │\n",
       "└─────┘"
      ]
     },
     "execution_count": 25,
     "metadata": {},
     "output_type": "execute_result"
    }
   ],
   "source": [
    "X_train"
   ]
  },
  {
   "cell_type": "code",
   "execution_count": 26,
   "metadata": {},
   "outputs": [
    {
     "data": {
      "text/html": [
       "<div><style>\n",
       ".dataframe > thead > tr,\n",
       ".dataframe > tbody > tr {\n",
       "  text-align: right;\n",
       "  white-space: pre-wrap;\n",
       "}\n",
       "</style>\n",
       "<small>shape: (3, 1)</small><table border=\"1\" class=\"dataframe\"><thead><tr><th>age</th></tr><tr><td>i64</td></tr></thead><tbody><tr><td>55</td></tr><tr><td>47</td></tr><tr><td>23</td></tr></tbody></table></div>"
      ],
      "text/plain": [
       "shape: (3, 1)\n",
       "┌─────┐\n",
       "│ age │\n",
       "│ --- │\n",
       "│ i64 │\n",
       "╞═════╡\n",
       "│ 55  │\n",
       "│ 47  │\n",
       "│ 23  │\n",
       "└─────┘"
      ]
     },
     "execution_count": 26,
     "metadata": {},
     "output_type": "execute_result"
    }
   ],
   "source": [
    "X_test"
   ]
  },
  {
   "cell_type": "markdown",
   "metadata": {},
   "source": [
    "## Create and Train Model"
   ]
  },
  {
   "cell_type": "code",
   "execution_count": 27,
   "metadata": {},
   "outputs": [],
   "source": [
    "model = LogisticRegression()"
   ]
  },
  {
   "cell_type": "code",
   "execution_count": 28,
   "metadata": {},
   "outputs": [
    {
     "data": {
      "text/html": [
       "<style>#sk-container-id-1 {\n",
       "  /* Definition of color scheme common for light and dark mode */\n",
       "  --sklearn-color-text: black;\n",
       "  --sklearn-color-line: gray;\n",
       "  /* Definition of color scheme for unfitted estimators */\n",
       "  --sklearn-color-unfitted-level-0: #fff5e6;\n",
       "  --sklearn-color-unfitted-level-1: #f6e4d2;\n",
       "  --sklearn-color-unfitted-level-2: #ffe0b3;\n",
       "  --sklearn-color-unfitted-level-3: chocolate;\n",
       "  /* Definition of color scheme for fitted estimators */\n",
       "  --sklearn-color-fitted-level-0: #f0f8ff;\n",
       "  --sklearn-color-fitted-level-1: #d4ebff;\n",
       "  --sklearn-color-fitted-level-2: #b3dbfd;\n",
       "  --sklearn-color-fitted-level-3: cornflowerblue;\n",
       "\n",
       "  /* Specific color for light theme */\n",
       "  --sklearn-color-text-on-default-background: var(--sg-text-color, var(--theme-code-foreground, var(--jp-content-font-color1, black)));\n",
       "  --sklearn-color-background: var(--sg-background-color, var(--theme-background, var(--jp-layout-color0, white)));\n",
       "  --sklearn-color-border-box: var(--sg-text-color, var(--theme-code-foreground, var(--jp-content-font-color1, black)));\n",
       "  --sklearn-color-icon: #696969;\n",
       "\n",
       "  @media (prefers-color-scheme: dark) {\n",
       "    /* Redefinition of color scheme for dark theme */\n",
       "    --sklearn-color-text-on-default-background: var(--sg-text-color, var(--theme-code-foreground, var(--jp-content-font-color1, white)));\n",
       "    --sklearn-color-background: var(--sg-background-color, var(--theme-background, var(--jp-layout-color0, #111)));\n",
       "    --sklearn-color-border-box: var(--sg-text-color, var(--theme-code-foreground, var(--jp-content-font-color1, white)));\n",
       "    --sklearn-color-icon: #878787;\n",
       "  }\n",
       "}\n",
       "\n",
       "#sk-container-id-1 {\n",
       "  color: var(--sklearn-color-text);\n",
       "}\n",
       "\n",
       "#sk-container-id-1 pre {\n",
       "  padding: 0;\n",
       "}\n",
       "\n",
       "#sk-container-id-1 input.sk-hidden--visually {\n",
       "  border: 0;\n",
       "  clip: rect(1px 1px 1px 1px);\n",
       "  clip: rect(1px, 1px, 1px, 1px);\n",
       "  height: 1px;\n",
       "  margin: -1px;\n",
       "  overflow: hidden;\n",
       "  padding: 0;\n",
       "  position: absolute;\n",
       "  width: 1px;\n",
       "}\n",
       "\n",
       "#sk-container-id-1 div.sk-dashed-wrapped {\n",
       "  border: 1px dashed var(--sklearn-color-line);\n",
       "  margin: 0 0.4em 0.5em 0.4em;\n",
       "  box-sizing: border-box;\n",
       "  padding-bottom: 0.4em;\n",
       "  background-color: var(--sklearn-color-background);\n",
       "}\n",
       "\n",
       "#sk-container-id-1 div.sk-container {\n",
       "  /* jupyter's `normalize.less` sets `[hidden] { display: none; }`\n",
       "     but bootstrap.min.css set `[hidden] { display: none !important; }`\n",
       "     so we also need the `!important` here to be able to override the\n",
       "     default hidden behavior on the sphinx rendered scikit-learn.org.\n",
       "     See: https://github.com/scikit-learn/scikit-learn/issues/21755 */\n",
       "  display: inline-block !important;\n",
       "  position: relative;\n",
       "}\n",
       "\n",
       "#sk-container-id-1 div.sk-text-repr-fallback {\n",
       "  display: none;\n",
       "}\n",
       "\n",
       "div.sk-parallel-item,\n",
       "div.sk-serial,\n",
       "div.sk-item {\n",
       "  /* draw centered vertical line to link estimators */\n",
       "  background-image: linear-gradient(var(--sklearn-color-text-on-default-background), var(--sklearn-color-text-on-default-background));\n",
       "  background-size: 2px 100%;\n",
       "  background-repeat: no-repeat;\n",
       "  background-position: center center;\n",
       "}\n",
       "\n",
       "/* Parallel-specific style estimator block */\n",
       "\n",
       "#sk-container-id-1 div.sk-parallel-item::after {\n",
       "  content: \"\";\n",
       "  width: 100%;\n",
       "  border-bottom: 2px solid var(--sklearn-color-text-on-default-background);\n",
       "  flex-grow: 1;\n",
       "}\n",
       "\n",
       "#sk-container-id-1 div.sk-parallel {\n",
       "  display: flex;\n",
       "  align-items: stretch;\n",
       "  justify-content: center;\n",
       "  background-color: var(--sklearn-color-background);\n",
       "  position: relative;\n",
       "}\n",
       "\n",
       "#sk-container-id-1 div.sk-parallel-item {\n",
       "  display: flex;\n",
       "  flex-direction: column;\n",
       "}\n",
       "\n",
       "#sk-container-id-1 div.sk-parallel-item:first-child::after {\n",
       "  align-self: flex-end;\n",
       "  width: 50%;\n",
       "}\n",
       "\n",
       "#sk-container-id-1 div.sk-parallel-item:last-child::after {\n",
       "  align-self: flex-start;\n",
       "  width: 50%;\n",
       "}\n",
       "\n",
       "#sk-container-id-1 div.sk-parallel-item:only-child::after {\n",
       "  width: 0;\n",
       "}\n",
       "\n",
       "/* Serial-specific style estimator block */\n",
       "\n",
       "#sk-container-id-1 div.sk-serial {\n",
       "  display: flex;\n",
       "  flex-direction: column;\n",
       "  align-items: center;\n",
       "  background-color: var(--sklearn-color-background);\n",
       "  padding-right: 1em;\n",
       "  padding-left: 1em;\n",
       "}\n",
       "\n",
       "\n",
       "/* Toggleable style: style used for estimator/Pipeline/ColumnTransformer box that is\n",
       "clickable and can be expanded/collapsed.\n",
       "- Pipeline and ColumnTransformer use this feature and define the default style\n",
       "- Estimators will overwrite some part of the style using the `sk-estimator` class\n",
       "*/\n",
       "\n",
       "/* Pipeline and ColumnTransformer style (default) */\n",
       "\n",
       "#sk-container-id-1 div.sk-toggleable {\n",
       "  /* Default theme specific background. It is overwritten whether we have a\n",
       "  specific estimator or a Pipeline/ColumnTransformer */\n",
       "  background-color: var(--sklearn-color-background);\n",
       "}\n",
       "\n",
       "/* Toggleable label */\n",
       "#sk-container-id-1 label.sk-toggleable__label {\n",
       "  cursor: pointer;\n",
       "  display: block;\n",
       "  width: 100%;\n",
       "  margin-bottom: 0;\n",
       "  padding: 0.5em;\n",
       "  box-sizing: border-box;\n",
       "  text-align: center;\n",
       "}\n",
       "\n",
       "#sk-container-id-1 label.sk-toggleable__label-arrow:before {\n",
       "  /* Arrow on the left of the label */\n",
       "  content: \"▸\";\n",
       "  float: left;\n",
       "  margin-right: 0.25em;\n",
       "  color: var(--sklearn-color-icon);\n",
       "}\n",
       "\n",
       "#sk-container-id-1 label.sk-toggleable__label-arrow:hover:before {\n",
       "  color: var(--sklearn-color-text);\n",
       "}\n",
       "\n",
       "/* Toggleable content - dropdown */\n",
       "\n",
       "#sk-container-id-1 div.sk-toggleable__content {\n",
       "  max-height: 0;\n",
       "  max-width: 0;\n",
       "  overflow: hidden;\n",
       "  text-align: left;\n",
       "  /* unfitted */\n",
       "  background-color: var(--sklearn-color-unfitted-level-0);\n",
       "}\n",
       "\n",
       "#sk-container-id-1 div.sk-toggleable__content.fitted {\n",
       "  /* fitted */\n",
       "  background-color: var(--sklearn-color-fitted-level-0);\n",
       "}\n",
       "\n",
       "#sk-container-id-1 div.sk-toggleable__content pre {\n",
       "  margin: 0.2em;\n",
       "  border-radius: 0.25em;\n",
       "  color: var(--sklearn-color-text);\n",
       "  /* unfitted */\n",
       "  background-color: var(--sklearn-color-unfitted-level-0);\n",
       "}\n",
       "\n",
       "#sk-container-id-1 div.sk-toggleable__content.fitted pre {\n",
       "  /* unfitted */\n",
       "  background-color: var(--sklearn-color-fitted-level-0);\n",
       "}\n",
       "\n",
       "#sk-container-id-1 input.sk-toggleable__control:checked~div.sk-toggleable__content {\n",
       "  /* Expand drop-down */\n",
       "  max-height: 200px;\n",
       "  max-width: 100%;\n",
       "  overflow: auto;\n",
       "}\n",
       "\n",
       "#sk-container-id-1 input.sk-toggleable__control:checked~label.sk-toggleable__label-arrow:before {\n",
       "  content: \"▾\";\n",
       "}\n",
       "\n",
       "/* Pipeline/ColumnTransformer-specific style */\n",
       "\n",
       "#sk-container-id-1 div.sk-label input.sk-toggleable__control:checked~label.sk-toggleable__label {\n",
       "  color: var(--sklearn-color-text);\n",
       "  background-color: var(--sklearn-color-unfitted-level-2);\n",
       "}\n",
       "\n",
       "#sk-container-id-1 div.sk-label.fitted input.sk-toggleable__control:checked~label.sk-toggleable__label {\n",
       "  background-color: var(--sklearn-color-fitted-level-2);\n",
       "}\n",
       "\n",
       "/* Estimator-specific style */\n",
       "\n",
       "/* Colorize estimator box */\n",
       "#sk-container-id-1 div.sk-estimator input.sk-toggleable__control:checked~label.sk-toggleable__label {\n",
       "  /* unfitted */\n",
       "  background-color: var(--sklearn-color-unfitted-level-2);\n",
       "}\n",
       "\n",
       "#sk-container-id-1 div.sk-estimator.fitted input.sk-toggleable__control:checked~label.sk-toggleable__label {\n",
       "  /* fitted */\n",
       "  background-color: var(--sklearn-color-fitted-level-2);\n",
       "}\n",
       "\n",
       "#sk-container-id-1 div.sk-label label.sk-toggleable__label,\n",
       "#sk-container-id-1 div.sk-label label {\n",
       "  /* The background is the default theme color */\n",
       "  color: var(--sklearn-color-text-on-default-background);\n",
       "}\n",
       "\n",
       "/* On hover, darken the color of the background */\n",
       "#sk-container-id-1 div.sk-label:hover label.sk-toggleable__label {\n",
       "  color: var(--sklearn-color-text);\n",
       "  background-color: var(--sklearn-color-unfitted-level-2);\n",
       "}\n",
       "\n",
       "/* Label box, darken color on hover, fitted */\n",
       "#sk-container-id-1 div.sk-label.fitted:hover label.sk-toggleable__label.fitted {\n",
       "  color: var(--sklearn-color-text);\n",
       "  background-color: var(--sklearn-color-fitted-level-2);\n",
       "}\n",
       "\n",
       "/* Estimator label */\n",
       "\n",
       "#sk-container-id-1 div.sk-label label {\n",
       "  font-family: monospace;\n",
       "  font-weight: bold;\n",
       "  display: inline-block;\n",
       "  line-height: 1.2em;\n",
       "}\n",
       "\n",
       "#sk-container-id-1 div.sk-label-container {\n",
       "  text-align: center;\n",
       "}\n",
       "\n",
       "/* Estimator-specific */\n",
       "#sk-container-id-1 div.sk-estimator {\n",
       "  font-family: monospace;\n",
       "  border: 1px dotted var(--sklearn-color-border-box);\n",
       "  border-radius: 0.25em;\n",
       "  box-sizing: border-box;\n",
       "  margin-bottom: 0.5em;\n",
       "  /* unfitted */\n",
       "  background-color: var(--sklearn-color-unfitted-level-0);\n",
       "}\n",
       "\n",
       "#sk-container-id-1 div.sk-estimator.fitted {\n",
       "  /* fitted */\n",
       "  background-color: var(--sklearn-color-fitted-level-0);\n",
       "}\n",
       "\n",
       "/* on hover */\n",
       "#sk-container-id-1 div.sk-estimator:hover {\n",
       "  /* unfitted */\n",
       "  background-color: var(--sklearn-color-unfitted-level-2);\n",
       "}\n",
       "\n",
       "#sk-container-id-1 div.sk-estimator.fitted:hover {\n",
       "  /* fitted */\n",
       "  background-color: var(--sklearn-color-fitted-level-2);\n",
       "}\n",
       "\n",
       "/* Specification for estimator info (e.g. \"i\" and \"?\") */\n",
       "\n",
       "/* Common style for \"i\" and \"?\" */\n",
       "\n",
       ".sk-estimator-doc-link,\n",
       "a:link.sk-estimator-doc-link,\n",
       "a:visited.sk-estimator-doc-link {\n",
       "  float: right;\n",
       "  font-size: smaller;\n",
       "  line-height: 1em;\n",
       "  font-family: monospace;\n",
       "  background-color: var(--sklearn-color-background);\n",
       "  border-radius: 1em;\n",
       "  height: 1em;\n",
       "  width: 1em;\n",
       "  text-decoration: none !important;\n",
       "  margin-left: 1ex;\n",
       "  /* unfitted */\n",
       "  border: var(--sklearn-color-unfitted-level-1) 1pt solid;\n",
       "  color: var(--sklearn-color-unfitted-level-1);\n",
       "}\n",
       "\n",
       ".sk-estimator-doc-link.fitted,\n",
       "a:link.sk-estimator-doc-link.fitted,\n",
       "a:visited.sk-estimator-doc-link.fitted {\n",
       "  /* fitted */\n",
       "  border: var(--sklearn-color-fitted-level-1) 1pt solid;\n",
       "  color: var(--sklearn-color-fitted-level-1);\n",
       "}\n",
       "\n",
       "/* On hover */\n",
       "div.sk-estimator:hover .sk-estimator-doc-link:hover,\n",
       ".sk-estimator-doc-link:hover,\n",
       "div.sk-label-container:hover .sk-estimator-doc-link:hover,\n",
       ".sk-estimator-doc-link:hover {\n",
       "  /* unfitted */\n",
       "  background-color: var(--sklearn-color-unfitted-level-3);\n",
       "  color: var(--sklearn-color-background);\n",
       "  text-decoration: none;\n",
       "}\n",
       "\n",
       "div.sk-estimator.fitted:hover .sk-estimator-doc-link.fitted:hover,\n",
       ".sk-estimator-doc-link.fitted:hover,\n",
       "div.sk-label-container:hover .sk-estimator-doc-link.fitted:hover,\n",
       ".sk-estimator-doc-link.fitted:hover {\n",
       "  /* fitted */\n",
       "  background-color: var(--sklearn-color-fitted-level-3);\n",
       "  color: var(--sklearn-color-background);\n",
       "  text-decoration: none;\n",
       "}\n",
       "\n",
       "/* Span, style for the box shown on hovering the info icon */\n",
       ".sk-estimator-doc-link span {\n",
       "  display: none;\n",
       "  z-index: 9999;\n",
       "  position: relative;\n",
       "  font-weight: normal;\n",
       "  right: .2ex;\n",
       "  padding: .5ex;\n",
       "  margin: .5ex;\n",
       "  width: min-content;\n",
       "  min-width: 20ex;\n",
       "  max-width: 50ex;\n",
       "  color: var(--sklearn-color-text);\n",
       "  box-shadow: 2pt 2pt 4pt #999;\n",
       "  /* unfitted */\n",
       "  background: var(--sklearn-color-unfitted-level-0);\n",
       "  border: .5pt solid var(--sklearn-color-unfitted-level-3);\n",
       "}\n",
       "\n",
       ".sk-estimator-doc-link.fitted span {\n",
       "  /* fitted */\n",
       "  background: var(--sklearn-color-fitted-level-0);\n",
       "  border: var(--sklearn-color-fitted-level-3);\n",
       "}\n",
       "\n",
       ".sk-estimator-doc-link:hover span {\n",
       "  display: block;\n",
       "}\n",
       "\n",
       "/* \"?\"-specific style due to the `<a>` HTML tag */\n",
       "\n",
       "#sk-container-id-1 a.estimator_doc_link {\n",
       "  float: right;\n",
       "  font-size: 1rem;\n",
       "  line-height: 1em;\n",
       "  font-family: monospace;\n",
       "  background-color: var(--sklearn-color-background);\n",
       "  border-radius: 1rem;\n",
       "  height: 1rem;\n",
       "  width: 1rem;\n",
       "  text-decoration: none;\n",
       "  /* unfitted */\n",
       "  color: var(--sklearn-color-unfitted-level-1);\n",
       "  border: var(--sklearn-color-unfitted-level-1) 1pt solid;\n",
       "}\n",
       "\n",
       "#sk-container-id-1 a.estimator_doc_link.fitted {\n",
       "  /* fitted */\n",
       "  border: var(--sklearn-color-fitted-level-1) 1pt solid;\n",
       "  color: var(--sklearn-color-fitted-level-1);\n",
       "}\n",
       "\n",
       "/* On hover */\n",
       "#sk-container-id-1 a.estimator_doc_link:hover {\n",
       "  /* unfitted */\n",
       "  background-color: var(--sklearn-color-unfitted-level-3);\n",
       "  color: var(--sklearn-color-background);\n",
       "  text-decoration: none;\n",
       "}\n",
       "\n",
       "#sk-container-id-1 a.estimator_doc_link.fitted:hover {\n",
       "  /* fitted */\n",
       "  background-color: var(--sklearn-color-fitted-level-3);\n",
       "}\n",
       "</style><div id=\"sk-container-id-1\" class=\"sk-top-container\"><div class=\"sk-text-repr-fallback\"><pre>LogisticRegression()</pre><b>In a Jupyter environment, please rerun this cell to show the HTML representation or trust the notebook. <br />On GitHub, the HTML representation is unable to render, please try loading this page with nbviewer.org.</b></div><div class=\"sk-container\" hidden><div class=\"sk-item\"><div class=\"sk-estimator fitted sk-toggleable\"><input class=\"sk-toggleable__control sk-hidden--visually\" id=\"sk-estimator-id-1\" type=\"checkbox\" checked><label for=\"sk-estimator-id-1\" class=\"sk-toggleable__label fitted sk-toggleable__label-arrow fitted\">&nbsp;&nbsp;LogisticRegression<a class=\"sk-estimator-doc-link fitted\" rel=\"noreferrer\" target=\"_blank\" href=\"https://scikit-learn.org/1.5/modules/generated/sklearn.linear_model.LogisticRegression.html\">?<span>Documentation for LogisticRegression</span></a><span class=\"sk-estimator-doc-link fitted\">i<span>Fitted</span></span></label><div class=\"sk-toggleable__content fitted\"><pre>LogisticRegression()</pre></div> </div></div></div></div>"
      ],
      "text/plain": [
       "LogisticRegression()"
      ]
     },
     "execution_count": 28,
     "metadata": {},
     "output_type": "execute_result"
    }
   ],
   "source": [
    "model.fit(X_train, y_train)"
   ]
  },
  {
   "cell_type": "code",
   "execution_count": 29,
   "metadata": {},
   "outputs": [
    {
     "data": {
      "text/plain": [
       "array([1, 1, 0])"
      ]
     },
     "execution_count": 29,
     "metadata": {},
     "output_type": "execute_result"
    }
   ],
   "source": [
    "model.predict(X_test)"
   ]
  },
  {
   "cell_type": "code",
   "execution_count": 31,
   "metadata": {},
   "outputs": [
    {
     "data": {
      "text/plain": [
       "1.0"
      ]
     },
     "execution_count": 31,
     "metadata": {},
     "output_type": "execute_result"
    }
   ],
   "source": [
    "model.score(X_test, y_test)"
   ]
  },
  {
   "cell_type": "code",
   "execution_count": 32,
   "metadata": {},
   "outputs": [
    {
     "data": {
      "text/plain": [
       "array([[0.12549039, 0.87450961],\n",
       "       [0.28093941, 0.71906059],\n",
       "       [0.88746213, 0.11253787]])"
      ]
     },
     "execution_count": 32,
     "metadata": {},
     "output_type": "execute_result"
    }
   ],
   "source": [
    "model.predict_proba(X_test)"
   ]
  },
  {
   "cell_type": "markdown",
   "metadata": {},
   "source": [
    "# Employee Retention"
   ]
  },
  {
   "cell_type": "code",
   "execution_count": 33,
   "metadata": {},
   "outputs": [],
   "source": [
    "import pandas as pd\n",
    "import polars as pl \n",
    "import matplotlib.pyplot as plt \n",
    "from sklearn.model_selection import train_test_split \n",
    "from sklearn.linear_model import LogisticRegression"
   ]
  },
  {
   "cell_type": "code",
   "execution_count": 77,
   "metadata": {},
   "outputs": [
    {
     "data": {
      "text/html": [
       "<div><style>\n",
       ".dataframe > thead > tr,\n",
       ".dataframe > tbody > tr {\n",
       "  text-align: right;\n",
       "  white-space: pre-wrap;\n",
       "}\n",
       "</style>\n",
       "<small>shape: (14_999, 10)</small><table border=\"1\" class=\"dataframe\"><thead><tr><th>satisfaction_level</th><th>last_evaluation</th><th>number_project</th><th>average_montly_hours</th><th>time_spend_company</th><th>Work_accident</th><th>left</th><th>promotion_last_5years</th><th>Department</th><th>salary</th></tr><tr><td>f64</td><td>f64</td><td>i64</td><td>i64</td><td>i64</td><td>i64</td><td>i64</td><td>i64</td><td>str</td><td>str</td></tr></thead><tbody><tr><td>0.38</td><td>0.53</td><td>2</td><td>157</td><td>3</td><td>0</td><td>1</td><td>0</td><td>&quot;sales&quot;</td><td>&quot;low&quot;</td></tr><tr><td>0.8</td><td>0.86</td><td>5</td><td>262</td><td>6</td><td>0</td><td>1</td><td>0</td><td>&quot;sales&quot;</td><td>&quot;medium&quot;</td></tr><tr><td>0.11</td><td>0.88</td><td>7</td><td>272</td><td>4</td><td>0</td><td>1</td><td>0</td><td>&quot;sales&quot;</td><td>&quot;medium&quot;</td></tr><tr><td>0.72</td><td>0.87</td><td>5</td><td>223</td><td>5</td><td>0</td><td>1</td><td>0</td><td>&quot;sales&quot;</td><td>&quot;low&quot;</td></tr><tr><td>0.37</td><td>0.52</td><td>2</td><td>159</td><td>3</td><td>0</td><td>1</td><td>0</td><td>&quot;sales&quot;</td><td>&quot;low&quot;</td></tr><tr><td>&hellip;</td><td>&hellip;</td><td>&hellip;</td><td>&hellip;</td><td>&hellip;</td><td>&hellip;</td><td>&hellip;</td><td>&hellip;</td><td>&hellip;</td><td>&hellip;</td></tr><tr><td>0.4</td><td>0.57</td><td>2</td><td>151</td><td>3</td><td>0</td><td>1</td><td>0</td><td>&quot;support&quot;</td><td>&quot;low&quot;</td></tr><tr><td>0.37</td><td>0.48</td><td>2</td><td>160</td><td>3</td><td>0</td><td>1</td><td>0</td><td>&quot;support&quot;</td><td>&quot;low&quot;</td></tr><tr><td>0.37</td><td>0.53</td><td>2</td><td>143</td><td>3</td><td>0</td><td>1</td><td>0</td><td>&quot;support&quot;</td><td>&quot;low&quot;</td></tr><tr><td>0.11</td><td>0.96</td><td>6</td><td>280</td><td>4</td><td>0</td><td>1</td><td>0</td><td>&quot;support&quot;</td><td>&quot;low&quot;</td></tr><tr><td>0.37</td><td>0.52</td><td>2</td><td>158</td><td>3</td><td>0</td><td>1</td><td>0</td><td>&quot;support&quot;</td><td>&quot;low&quot;</td></tr></tbody></table></div>"
      ],
      "text/plain": [
       "shape: (14_999, 10)\n",
       "┌─────────────┬────────────┬────────────┬────────────┬───┬──────┬────────────┬────────────┬────────┐\n",
       "│ satisfactio ┆ last_evalu ┆ number_pro ┆ average_mo ┆ … ┆ left ┆ promotion_ ┆ Department ┆ salary │\n",
       "│ n_level     ┆ ation      ┆ ject       ┆ ntly_hours ┆   ┆ ---  ┆ last_5year ┆ ---        ┆ ---    │\n",
       "│ ---         ┆ ---        ┆ ---        ┆ ---        ┆   ┆ i64  ┆ s          ┆ str        ┆ str    │\n",
       "│ f64         ┆ f64        ┆ i64        ┆ i64        ┆   ┆      ┆ ---        ┆            ┆        │\n",
       "│             ┆            ┆            ┆            ┆   ┆      ┆ i64        ┆            ┆        │\n",
       "╞═════════════╪════════════╪════════════╪════════════╪═══╪══════╪════════════╪════════════╪════════╡\n",
       "│ 0.38        ┆ 0.53       ┆ 2          ┆ 157        ┆ … ┆ 1    ┆ 0          ┆ sales      ┆ low    │\n",
       "│ 0.8         ┆ 0.86       ┆ 5          ┆ 262        ┆ … ┆ 1    ┆ 0          ┆ sales      ┆ medium │\n",
       "│ 0.11        ┆ 0.88       ┆ 7          ┆ 272        ┆ … ┆ 1    ┆ 0          ┆ sales      ┆ medium │\n",
       "│ 0.72        ┆ 0.87       ┆ 5          ┆ 223        ┆ … ┆ 1    ┆ 0          ┆ sales      ┆ low    │\n",
       "│ 0.37        ┆ 0.52       ┆ 2          ┆ 159        ┆ … ┆ 1    ┆ 0          ┆ sales      ┆ low    │\n",
       "│ …           ┆ …          ┆ …          ┆ …          ┆ … ┆ …    ┆ …          ┆ …          ┆ …      │\n",
       "│ 0.4         ┆ 0.57       ┆ 2          ┆ 151        ┆ … ┆ 1    ┆ 0          ┆ support    ┆ low    │\n",
       "│ 0.37        ┆ 0.48       ┆ 2          ┆ 160        ┆ … ┆ 1    ┆ 0          ┆ support    ┆ low    │\n",
       "│ 0.37        ┆ 0.53       ┆ 2          ┆ 143        ┆ … ┆ 1    ┆ 0          ┆ support    ┆ low    │\n",
       "│ 0.11        ┆ 0.96       ┆ 6          ┆ 280        ┆ … ┆ 1    ┆ 0          ┆ support    ┆ low    │\n",
       "│ 0.37        ┆ 0.52       ┆ 2          ┆ 158        ┆ … ┆ 1    ┆ 0          ┆ support    ┆ low    │\n",
       "└─────────────┴────────────┴────────────┴────────────┴───┴──────┴────────────┴────────────┴────────┘"
      ]
     },
     "execution_count": 77,
     "metadata": {},
     "output_type": "execute_result"
    }
   ],
   "source": [
    "df = pl.read_csv('HR_comma_sep.csv')\n",
    "df "
   ]
  },
  {
   "cell_type": "markdown",
   "metadata": {},
   "source": [
    "## Data Preprocessing"
   ]
  },
  {
   "cell_type": "code",
   "execution_count": 78,
   "metadata": {},
   "outputs": [
    {
     "data": {
      "text/html": [
       "<div><style>\n",
       ".dataframe > thead > tr,\n",
       ".dataframe > tbody > tr {\n",
       "  text-align: right;\n",
       "  white-space: pre-wrap;\n",
       "}\n",
       "</style>\n",
       "<small>shape: (1, 10)</small><table border=\"1\" class=\"dataframe\"><thead><tr><th>satisfaction_level</th><th>last_evaluation</th><th>number_project</th><th>average_montly_hours</th><th>time_spend_company</th><th>Work_accident</th><th>left</th><th>promotion_last_5years</th><th>Department</th><th>salary</th></tr><tr><td>u32</td><td>u32</td><td>u32</td><td>u32</td><td>u32</td><td>u32</td><td>u32</td><td>u32</td><td>u32</td><td>u32</td></tr></thead><tbody><tr><td>0</td><td>0</td><td>0</td><td>0</td><td>0</td><td>0</td><td>0</td><td>0</td><td>0</td><td>0</td></tr></tbody></table></div>"
      ],
      "text/plain": [
       "shape: (1, 10)\n",
       "┌─────────────┬────────────┬────────────┬────────────┬───┬──────┬────────────┬────────────┬────────┐\n",
       "│ satisfactio ┆ last_evalu ┆ number_pro ┆ average_mo ┆ … ┆ left ┆ promotion_ ┆ Department ┆ salary │\n",
       "│ n_level     ┆ ation      ┆ ject       ┆ ntly_hours ┆   ┆ ---  ┆ last_5year ┆ ---        ┆ ---    │\n",
       "│ ---         ┆ ---        ┆ ---        ┆ ---        ┆   ┆ u32  ┆ s          ┆ u32        ┆ u32    │\n",
       "│ u32         ┆ u32        ┆ u32        ┆ u32        ┆   ┆      ┆ ---        ┆            ┆        │\n",
       "│             ┆            ┆            ┆            ┆   ┆      ┆ u32        ┆            ┆        │\n",
       "╞═════════════╪════════════╪════════════╪════════════╪═══╪══════╪════════════╪════════════╪════════╡\n",
       "│ 0           ┆ 0          ┆ 0          ┆ 0          ┆ … ┆ 0    ┆ 0          ┆ 0          ┆ 0      │\n",
       "└─────────────┴────────────┴────────────┴────────────┴───┴──────┴────────────┴────────────┴────────┘"
      ]
     },
     "execution_count": 78,
     "metadata": {},
     "output_type": "execute_result"
    }
   ],
   "source": [
    "null_count = df.select([\n",
    "    pl.col(c).is_null().sum().alias(c) for c in df.columns\n",
    "])\n",
    "null_count"
   ]
  },
  {
   "cell_type": "markdown",
   "metadata": {},
   "source": [
    "## EDA"
   ]
  },
  {
   "cell_type": "code",
   "execution_count": 79,
   "metadata": {},
   "outputs": [
    {
     "data": {
      "text/html": [
       "<div><style>\n",
       ".dataframe > thead > tr,\n",
       ".dataframe > tbody > tr {\n",
       "  text-align: right;\n",
       "  white-space: pre-wrap;\n",
       "}\n",
       "</style>\n",
       "<small>shape: (2,)</small><table border=\"1\" class=\"dataframe\"><thead><tr><th>left</th></tr><tr><td>i64</td></tr></thead><tbody><tr><td>0</td></tr><tr><td>1</td></tr></tbody></table></div>"
      ],
      "text/plain": [
       "shape: (2,)\n",
       "Series: 'left' [i64]\n",
       "[\n",
       "\t0\n",
       "\t1\n",
       "]"
      ]
     },
     "execution_count": 79,
     "metadata": {},
     "output_type": "execute_result"
    }
   ],
   "source": [
    "df['left'].unique()"
   ]
  },
  {
   "cell_type": "code",
   "execution_count": 80,
   "metadata": {},
   "outputs": [
    {
     "data": {
      "text/html": [
       "<div><style>\n",
       ".dataframe > thead > tr,\n",
       ".dataframe > tbody > tr {\n",
       "  text-align: right;\n",
       "  white-space: pre-wrap;\n",
       "}\n",
       "</style>\n",
       "<small>shape: (11_428, 10)</small><table border=\"1\" class=\"dataframe\"><thead><tr><th>satisfaction_level</th><th>last_evaluation</th><th>number_project</th><th>average_montly_hours</th><th>time_spend_company</th><th>Work_accident</th><th>left</th><th>promotion_last_5years</th><th>Department</th><th>salary</th></tr><tr><td>f64</td><td>f64</td><td>i64</td><td>i64</td><td>i64</td><td>i64</td><td>i64</td><td>i64</td><td>str</td><td>str</td></tr></thead><tbody><tr><td>0.58</td><td>0.74</td><td>4</td><td>215</td><td>3</td><td>0</td><td>0</td><td>0</td><td>&quot;sales&quot;</td><td>&quot;low&quot;</td></tr><tr><td>0.82</td><td>0.67</td><td>2</td><td>202</td><td>3</td><td>0</td><td>0</td><td>0</td><td>&quot;sales&quot;</td><td>&quot;low&quot;</td></tr><tr><td>0.45</td><td>0.69</td><td>5</td><td>193</td><td>3</td><td>0</td><td>0</td><td>0</td><td>&quot;sales&quot;</td><td>&quot;low&quot;</td></tr><tr><td>0.78</td><td>0.82</td><td>5</td><td>247</td><td>3</td><td>0</td><td>0</td><td>0</td><td>&quot;sales&quot;</td><td>&quot;low&quot;</td></tr><tr><td>0.49</td><td>0.6</td><td>3</td><td>214</td><td>2</td><td>0</td><td>0</td><td>0</td><td>&quot;sales&quot;</td><td>&quot;low&quot;</td></tr><tr><td>&hellip;</td><td>&hellip;</td><td>&hellip;</td><td>&hellip;</td><td>&hellip;</td><td>&hellip;</td><td>&hellip;</td><td>&hellip;</td><td>&hellip;</td><td>&hellip;</td></tr><tr><td>0.9</td><td>0.55</td><td>3</td><td>259</td><td>10</td><td>1</td><td>0</td><td>1</td><td>&quot;management&quot;</td><td>&quot;high&quot;</td></tr><tr><td>0.74</td><td>0.95</td><td>5</td><td>266</td><td>10</td><td>0</td><td>0</td><td>1</td><td>&quot;management&quot;</td><td>&quot;high&quot;</td></tr><tr><td>0.85</td><td>0.54</td><td>3</td><td>185</td><td>10</td><td>0</td><td>0</td><td>1</td><td>&quot;management&quot;</td><td>&quot;high&quot;</td></tr><tr><td>0.33</td><td>0.65</td><td>3</td><td>172</td><td>10</td><td>0</td><td>0</td><td>1</td><td>&quot;marketing&quot;</td><td>&quot;high&quot;</td></tr><tr><td>0.5</td><td>0.73</td><td>4</td><td>180</td><td>3</td><td>0</td><td>0</td><td>0</td><td>&quot;IT&quot;</td><td>&quot;low&quot;</td></tr></tbody></table></div>"
      ],
      "text/plain": [
       "shape: (11_428, 10)\n",
       "┌─────────────┬────────────┬────────────┬────────────┬───┬──────┬────────────┬────────────┬────────┐\n",
       "│ satisfactio ┆ last_evalu ┆ number_pro ┆ average_mo ┆ … ┆ left ┆ promotion_ ┆ Department ┆ salary │\n",
       "│ n_level     ┆ ation      ┆ ject       ┆ ntly_hours ┆   ┆ ---  ┆ last_5year ┆ ---        ┆ ---    │\n",
       "│ ---         ┆ ---        ┆ ---        ┆ ---        ┆   ┆ i64  ┆ s          ┆ str        ┆ str    │\n",
       "│ f64         ┆ f64        ┆ i64        ┆ i64        ┆   ┆      ┆ ---        ┆            ┆        │\n",
       "│             ┆            ┆            ┆            ┆   ┆      ┆ i64        ┆            ┆        │\n",
       "╞═════════════╪════════════╪════════════╪════════════╪═══╪══════╪════════════╪════════════╪════════╡\n",
       "│ 0.58        ┆ 0.74       ┆ 4          ┆ 215        ┆ … ┆ 0    ┆ 0          ┆ sales      ┆ low    │\n",
       "│ 0.82        ┆ 0.67       ┆ 2          ┆ 202        ┆ … ┆ 0    ┆ 0          ┆ sales      ┆ low    │\n",
       "│ 0.45        ┆ 0.69       ┆ 5          ┆ 193        ┆ … ┆ 0    ┆ 0          ┆ sales      ┆ low    │\n",
       "│ 0.78        ┆ 0.82       ┆ 5          ┆ 247        ┆ … ┆ 0    ┆ 0          ┆ sales      ┆ low    │\n",
       "│ 0.49        ┆ 0.6        ┆ 3          ┆ 214        ┆ … ┆ 0    ┆ 0          ┆ sales      ┆ low    │\n",
       "│ …           ┆ …          ┆ …          ┆ …          ┆ … ┆ …    ┆ …          ┆ …          ┆ …      │\n",
       "│ 0.9         ┆ 0.55       ┆ 3          ┆ 259        ┆ … ┆ 0    ┆ 1          ┆ management ┆ high   │\n",
       "│ 0.74        ┆ 0.95       ┆ 5          ┆ 266        ┆ … ┆ 0    ┆ 1          ┆ management ┆ high   │\n",
       "│ 0.85        ┆ 0.54       ┆ 3          ┆ 185        ┆ … ┆ 0    ┆ 1          ┆ management ┆ high   │\n",
       "│ 0.33        ┆ 0.65       ┆ 3          ┆ 172        ┆ … ┆ 0    ┆ 1          ┆ marketing  ┆ high   │\n",
       "│ 0.5         ┆ 0.73       ┆ 4          ┆ 180        ┆ … ┆ 0    ┆ 0          ┆ IT         ┆ low    │\n",
       "└─────────────┴────────────┴────────────┴────────────┴───┴──────┴────────────┴────────────┴────────┘"
      ]
     },
     "execution_count": 80,
     "metadata": {},
     "output_type": "execute_result"
    }
   ],
   "source": [
    "remained = df.filter([\n",
    "    pl.col('left') == 0\n",
    "])\n",
    "\n",
    "remained"
   ]
  },
  {
   "cell_type": "code",
   "execution_count": 81,
   "metadata": {},
   "outputs": [
    {
     "data": {
      "text/html": [
       "<div><style>\n",
       ".dataframe > thead > tr,\n",
       ".dataframe > tbody > tr {\n",
       "  text-align: right;\n",
       "  white-space: pre-wrap;\n",
       "}\n",
       "</style>\n",
       "<small>shape: (3_571, 10)</small><table border=\"1\" class=\"dataframe\"><thead><tr><th>satisfaction_level</th><th>last_evaluation</th><th>number_project</th><th>average_montly_hours</th><th>time_spend_company</th><th>Work_accident</th><th>left</th><th>promotion_last_5years</th><th>Department</th><th>salary</th></tr><tr><td>f64</td><td>f64</td><td>i64</td><td>i64</td><td>i64</td><td>i64</td><td>i64</td><td>i64</td><td>str</td><td>str</td></tr></thead><tbody><tr><td>0.38</td><td>0.53</td><td>2</td><td>157</td><td>3</td><td>0</td><td>1</td><td>0</td><td>&quot;sales&quot;</td><td>&quot;low&quot;</td></tr><tr><td>0.8</td><td>0.86</td><td>5</td><td>262</td><td>6</td><td>0</td><td>1</td><td>0</td><td>&quot;sales&quot;</td><td>&quot;medium&quot;</td></tr><tr><td>0.11</td><td>0.88</td><td>7</td><td>272</td><td>4</td><td>0</td><td>1</td><td>0</td><td>&quot;sales&quot;</td><td>&quot;medium&quot;</td></tr><tr><td>0.72</td><td>0.87</td><td>5</td><td>223</td><td>5</td><td>0</td><td>1</td><td>0</td><td>&quot;sales&quot;</td><td>&quot;low&quot;</td></tr><tr><td>0.37</td><td>0.52</td><td>2</td><td>159</td><td>3</td><td>0</td><td>1</td><td>0</td><td>&quot;sales&quot;</td><td>&quot;low&quot;</td></tr><tr><td>&hellip;</td><td>&hellip;</td><td>&hellip;</td><td>&hellip;</td><td>&hellip;</td><td>&hellip;</td><td>&hellip;</td><td>&hellip;</td><td>&hellip;</td><td>&hellip;</td></tr><tr><td>0.4</td><td>0.57</td><td>2</td><td>151</td><td>3</td><td>0</td><td>1</td><td>0</td><td>&quot;support&quot;</td><td>&quot;low&quot;</td></tr><tr><td>0.37</td><td>0.48</td><td>2</td><td>160</td><td>3</td><td>0</td><td>1</td><td>0</td><td>&quot;support&quot;</td><td>&quot;low&quot;</td></tr><tr><td>0.37</td><td>0.53</td><td>2</td><td>143</td><td>3</td><td>0</td><td>1</td><td>0</td><td>&quot;support&quot;</td><td>&quot;low&quot;</td></tr><tr><td>0.11</td><td>0.96</td><td>6</td><td>280</td><td>4</td><td>0</td><td>1</td><td>0</td><td>&quot;support&quot;</td><td>&quot;low&quot;</td></tr><tr><td>0.37</td><td>0.52</td><td>2</td><td>158</td><td>3</td><td>0</td><td>1</td><td>0</td><td>&quot;support&quot;</td><td>&quot;low&quot;</td></tr></tbody></table></div>"
      ],
      "text/plain": [
       "shape: (3_571, 10)\n",
       "┌─────────────┬────────────┬────────────┬────────────┬───┬──────┬────────────┬────────────┬────────┐\n",
       "│ satisfactio ┆ last_evalu ┆ number_pro ┆ average_mo ┆ … ┆ left ┆ promotion_ ┆ Department ┆ salary │\n",
       "│ n_level     ┆ ation      ┆ ject       ┆ ntly_hours ┆   ┆ ---  ┆ last_5year ┆ ---        ┆ ---    │\n",
       "│ ---         ┆ ---        ┆ ---        ┆ ---        ┆   ┆ i64  ┆ s          ┆ str        ┆ str    │\n",
       "│ f64         ┆ f64        ┆ i64        ┆ i64        ┆   ┆      ┆ ---        ┆            ┆        │\n",
       "│             ┆            ┆            ┆            ┆   ┆      ┆ i64        ┆            ┆        │\n",
       "╞═════════════╪════════════╪════════════╪════════════╪═══╪══════╪════════════╪════════════╪════════╡\n",
       "│ 0.38        ┆ 0.53       ┆ 2          ┆ 157        ┆ … ┆ 1    ┆ 0          ┆ sales      ┆ low    │\n",
       "│ 0.8         ┆ 0.86       ┆ 5          ┆ 262        ┆ … ┆ 1    ┆ 0          ┆ sales      ┆ medium │\n",
       "│ 0.11        ┆ 0.88       ┆ 7          ┆ 272        ┆ … ┆ 1    ┆ 0          ┆ sales      ┆ medium │\n",
       "│ 0.72        ┆ 0.87       ┆ 5          ┆ 223        ┆ … ┆ 1    ┆ 0          ┆ sales      ┆ low    │\n",
       "│ 0.37        ┆ 0.52       ┆ 2          ┆ 159        ┆ … ┆ 1    ┆ 0          ┆ sales      ┆ low    │\n",
       "│ …           ┆ …          ┆ …          ┆ …          ┆ … ┆ …    ┆ …          ┆ …          ┆ …      │\n",
       "│ 0.4         ┆ 0.57       ┆ 2          ┆ 151        ┆ … ┆ 1    ┆ 0          ┆ support    ┆ low    │\n",
       "│ 0.37        ┆ 0.48       ┆ 2          ┆ 160        ┆ … ┆ 1    ┆ 0          ┆ support    ┆ low    │\n",
       "│ 0.37        ┆ 0.53       ┆ 2          ┆ 143        ┆ … ┆ 1    ┆ 0          ┆ support    ┆ low    │\n",
       "│ 0.11        ┆ 0.96       ┆ 6          ┆ 280        ┆ … ┆ 1    ┆ 0          ┆ support    ┆ low    │\n",
       "│ 0.37        ┆ 0.52       ┆ 2          ┆ 158        ┆ … ┆ 1    ┆ 0          ┆ support    ┆ low    │\n",
       "└─────────────┴────────────┴────────────┴────────────┴───┴──────┴────────────┴────────────┴────────┘"
      ]
     },
     "execution_count": 81,
     "metadata": {},
     "output_type": "execute_result"
    }
   ],
   "source": [
    "resigned = df.filter([\n",
    "    pl.col('left') == 1\n",
    "])\n",
    "\n",
    "resigned"
   ]
  },
  {
   "cell_type": "code",
   "execution_count": 82,
   "metadata": {},
   "outputs": [
    {
     "data": {
      "text/html": [
       "<div><style>\n",
       ".dataframe > thead > tr,\n",
       ".dataframe > tbody > tr {\n",
       "  text-align: right;\n",
       "  white-space: pre-wrap;\n",
       "}\n",
       "</style>\n",
       "<small>shape: (9, 11)</small><table border=\"1\" class=\"dataframe\"><thead><tr><th>statistic</th><th>satisfaction_level</th><th>last_evaluation</th><th>number_project</th><th>average_montly_hours</th><th>time_spend_company</th><th>Work_accident</th><th>left</th><th>promotion_last_5years</th><th>Department</th><th>salary</th></tr><tr><td>str</td><td>f64</td><td>f64</td><td>f64</td><td>f64</td><td>f64</td><td>f64</td><td>f64</td><td>f64</td><td>str</td><td>str</td></tr></thead><tbody><tr><td>&quot;count&quot;</td><td>14999.0</td><td>14999.0</td><td>14999.0</td><td>14999.0</td><td>14999.0</td><td>14999.0</td><td>14999.0</td><td>14999.0</td><td>&quot;14999&quot;</td><td>&quot;14999&quot;</td></tr><tr><td>&quot;null_count&quot;</td><td>0.0</td><td>0.0</td><td>0.0</td><td>0.0</td><td>0.0</td><td>0.0</td><td>0.0</td><td>0.0</td><td>&quot;0&quot;</td><td>&quot;0&quot;</td></tr><tr><td>&quot;mean&quot;</td><td>0.612834</td><td>0.716102</td><td>3.803054</td><td>201.050337</td><td>3.498233</td><td>0.14461</td><td>0.238083</td><td>0.021268</td><td>null</td><td>null</td></tr><tr><td>&quot;std&quot;</td><td>0.248631</td><td>0.171169</td><td>1.232592</td><td>49.943099</td><td>1.460136</td><td>0.351719</td><td>0.425924</td><td>0.144281</td><td>null</td><td>null</td></tr><tr><td>&quot;min&quot;</td><td>0.09</td><td>0.36</td><td>2.0</td><td>96.0</td><td>2.0</td><td>0.0</td><td>0.0</td><td>0.0</td><td>&quot;IT&quot;</td><td>&quot;high&quot;</td></tr><tr><td>&quot;25%&quot;</td><td>0.44</td><td>0.56</td><td>3.0</td><td>156.0</td><td>3.0</td><td>0.0</td><td>0.0</td><td>0.0</td><td>null</td><td>null</td></tr><tr><td>&quot;50%&quot;</td><td>0.64</td><td>0.72</td><td>4.0</td><td>200.0</td><td>3.0</td><td>0.0</td><td>0.0</td><td>0.0</td><td>null</td><td>null</td></tr><tr><td>&quot;75%&quot;</td><td>0.82</td><td>0.87</td><td>5.0</td><td>245.0</td><td>4.0</td><td>0.0</td><td>0.0</td><td>0.0</td><td>null</td><td>null</td></tr><tr><td>&quot;max&quot;</td><td>1.0</td><td>1.0</td><td>7.0</td><td>310.0</td><td>10.0</td><td>1.0</td><td>1.0</td><td>1.0</td><td>&quot;technical&quot;</td><td>&quot;medium&quot;</td></tr></tbody></table></div>"
      ],
      "text/plain": [
       "shape: (9, 11)\n",
       "┌────────────┬────────────┬────────────┬───────────┬───┬──────────┬───────────┬───────────┬────────┐\n",
       "│ statistic  ┆ satisfacti ┆ last_evalu ┆ number_pr ┆ … ┆ left     ┆ promotion ┆ Departmen ┆ salary │\n",
       "│ ---        ┆ on_level   ┆ ation      ┆ oject     ┆   ┆ ---      ┆ _last_5ye ┆ t         ┆ ---    │\n",
       "│ str        ┆ ---        ┆ ---        ┆ ---       ┆   ┆ f64      ┆ ars       ┆ ---       ┆ str    │\n",
       "│            ┆ f64        ┆ f64        ┆ f64       ┆   ┆          ┆ ---       ┆ str       ┆        │\n",
       "│            ┆            ┆            ┆           ┆   ┆          ┆ f64       ┆           ┆        │\n",
       "╞════════════╪════════════╪════════════╪═══════════╪═══╪══════════╪═══════════╪═══════════╪════════╡\n",
       "│ count      ┆ 14999.0    ┆ 14999.0    ┆ 14999.0   ┆ … ┆ 14999.0  ┆ 14999.0   ┆ 14999     ┆ 14999  │\n",
       "│ null_count ┆ 0.0        ┆ 0.0        ┆ 0.0       ┆ … ┆ 0.0      ┆ 0.0       ┆ 0         ┆ 0      │\n",
       "│ mean       ┆ 0.612834   ┆ 0.716102   ┆ 3.803054  ┆ … ┆ 0.238083 ┆ 0.021268  ┆ null      ┆ null   │\n",
       "│ std        ┆ 0.248631   ┆ 0.171169   ┆ 1.232592  ┆ … ┆ 0.425924 ┆ 0.144281  ┆ null      ┆ null   │\n",
       "│ min        ┆ 0.09       ┆ 0.36       ┆ 2.0       ┆ … ┆ 0.0      ┆ 0.0       ┆ IT        ┆ high   │\n",
       "│ 25%        ┆ 0.44       ┆ 0.56       ┆ 3.0       ┆ … ┆ 0.0      ┆ 0.0       ┆ null      ┆ null   │\n",
       "│ 50%        ┆ 0.64       ┆ 0.72       ┆ 4.0       ┆ … ┆ 0.0      ┆ 0.0       ┆ null      ┆ null   │\n",
       "│ 75%        ┆ 0.82       ┆ 0.87       ┆ 5.0       ┆ … ┆ 0.0      ┆ 0.0       ┆ null      ┆ null   │\n",
       "│ max        ┆ 1.0        ┆ 1.0        ┆ 7.0       ┆ … ┆ 1.0      ┆ 1.0       ┆ technical ┆ medium │\n",
       "└────────────┴────────────┴────────────┴───────────┴───┴──────────┴───────────┴───────────┴────────┘"
      ]
     },
     "execution_count": 82,
     "metadata": {},
     "output_type": "execute_result"
    }
   ],
   "source": [
    "df.describe()"
   ]
  },
  {
   "cell_type": "code",
   "execution_count": 83,
   "metadata": {},
   "outputs": [
    {
     "data": {
      "text/html": [
       "<div><style>\n",
       ".dataframe > thead > tr,\n",
       ".dataframe > tbody > tr {\n",
       "  text-align: right;\n",
       "  white-space: pre-wrap;\n",
       "}\n",
       "</style>\n",
       "<small>shape: (2, 10)</small><table border=\"1\" class=\"dataframe\"><thead><tr><th>left</th><th>satisfaction_level</th><th>last_evaluation</th><th>number_project</th><th>average_montly_hours</th><th>time_spend_company</th><th>Work_accident</th><th>promotion_last_5years</th><th>Department</th><th>salary</th></tr><tr><td>i64</td><td>f64</td><td>f64</td><td>f64</td><td>f64</td><td>f64</td><td>f64</td><td>f64</td><td>str</td><td>str</td></tr></thead><tbody><tr><td>0</td><td>0.66681</td><td>0.715473</td><td>3.786664</td><td>199.060203</td><td>3.380032</td><td>0.175009</td><td>0.026251</td><td>null</td><td>null</td></tr><tr><td>1</td><td>0.440098</td><td>0.718113</td><td>3.855503</td><td>207.41921</td><td>3.876505</td><td>0.047326</td><td>0.005321</td><td>null</td><td>null</td></tr></tbody></table></div>"
      ],
      "text/plain": [
       "shape: (2, 10)\n",
       "┌──────┬─────────────┬────────────┬────────────┬───┬────────────┬────────────┬────────────┬────────┐\n",
       "│ left ┆ satisfactio ┆ last_evalu ┆ number_pro ┆ … ┆ Work_accid ┆ promotion_ ┆ Department ┆ salary │\n",
       "│ ---  ┆ n_level     ┆ ation      ┆ ject       ┆   ┆ ent        ┆ last_5year ┆ ---        ┆ ---    │\n",
       "│ i64  ┆ ---         ┆ ---        ┆ ---        ┆   ┆ ---        ┆ s          ┆ str        ┆ str    │\n",
       "│      ┆ f64         ┆ f64        ┆ f64        ┆   ┆ f64        ┆ ---        ┆            ┆        │\n",
       "│      ┆             ┆            ┆            ┆   ┆            ┆ f64        ┆            ┆        │\n",
       "╞══════╪═════════════╪════════════╪════════════╪═══╪════════════╪════════════╪════════════╪════════╡\n",
       "│ 0    ┆ 0.66681     ┆ 0.715473   ┆ 3.786664   ┆ … ┆ 0.175009   ┆ 0.026251   ┆ null       ┆ null   │\n",
       "│ 1    ┆ 0.440098    ┆ 0.718113   ┆ 3.855503   ┆ … ┆ 0.047326   ┆ 0.005321   ┆ null       ┆ null   │\n",
       "└──────┴─────────────┴────────────┴────────────┴───┴────────────┴────────────┴────────────┴────────┘"
      ]
     },
     "execution_count": 83,
     "metadata": {},
     "output_type": "execute_result"
    }
   ],
   "source": [
    "grouped_df = df.group_by('left').agg([\n",
    "    pl.all().exclude('left').mean()  \n",
    "])\n",
    "\n",
    "grouped_df"
   ]
  },
  {
   "cell_type": "markdown",
   "metadata": {},
   "source": [
    "Observations:\n",
    "1. Satisfaction level is higher (0.66681) in those who remained (0) than those who left.\n",
    "2. Avg monthly hours is lower (199 hrs) in those who remained.\n",
    "3. Promotion number is higher (0.026) in those who remained.\n",
    "4. Higher work accident (0.175) in those who remained than those who left - why? Insurance claims dependent?\n"
   ]
  },
  {
   "cell_type": "markdown",
   "metadata": {},
   "source": [
    "## Bar Charts"
   ]
  },
  {
   "cell_type": "code",
   "execution_count": 84,
   "metadata": {},
   "outputs": [
    {
     "data": {
      "text/plain": [
       "<Axes: xlabel='row_0'>"
      ]
     },
     "execution_count": 84,
     "metadata": {},
     "output_type": "execute_result"
    },
    {
     "data": {
      "image/png": "[encoded data removed]",
      "text/plain": [
       "<Figure size 640x480 with 1 Axes>"
      ]
     },
     "metadata": {},
     "output_type": "display_data"
    }
   ],
   "source": [
    "# Salary vs Retention\n",
    "pd.crosstab(df['salary'], df['left']).plot(kind = 'bar')"
   ]
  },
  {
   "cell_type": "code",
   "execution_count": 85,
   "metadata": {},
   "outputs": [
    {
     "data": {
      "text/plain": [
       "<Axes: xlabel='row_0'>"
      ]
     },
     "execution_count": 85,
     "metadata": {},
     "output_type": "execute_result"
    },
    {
     "data": {
      "image/png": "[encoded data removed]",
      "text/plain": [
       "<Figure size 640x480 with 1 Axes>"
      ]
     },
     "metadata": {},
     "output_type": "display_data"
    }
   ],
   "source": [
    "# Correlation between Department and Employee Retention\n",
    "pd.crosstab(df['Department'], df['left']).plot(kind = 'bar')"
   ]
  },
  {
   "cell_type": "markdown",
   "metadata": {},
   "source": [
    "## Build and Train Logistic Regression Model"
   ]
  },
  {
   "cell_type": "code",
   "execution_count": 86,
   "metadata": {},
   "outputs": [
    {
     "data": {
      "text/html": [
       "<div><style>\n",
       ".dataframe > thead > tr,\n",
       ".dataframe > tbody > tr {\n",
       "  text-align: right;\n",
       "  white-space: pre-wrap;\n",
       "}\n",
       "</style>\n",
       "<small>shape: (5, 10)</small><table border=\"1\" class=\"dataframe\"><thead><tr><th>satisfaction_level</th><th>last_evaluation</th><th>number_project</th><th>average_montly_hours</th><th>time_spend_company</th><th>Work_accident</th><th>left</th><th>promotion_last_5years</th><th>Department</th><th>salary</th></tr><tr><td>f64</td><td>f64</td><td>i64</td><td>i64</td><td>i64</td><td>i64</td><td>i64</td><td>i64</td><td>str</td><td>str</td></tr></thead><tbody><tr><td>0.38</td><td>0.53</td><td>2</td><td>157</td><td>3</td><td>0</td><td>1</td><td>0</td><td>&quot;sales&quot;</td><td>&quot;low&quot;</td></tr><tr><td>0.8</td><td>0.86</td><td>5</td><td>262</td><td>6</td><td>0</td><td>1</td><td>0</td><td>&quot;sales&quot;</td><td>&quot;medium&quot;</td></tr><tr><td>0.11</td><td>0.88</td><td>7</td><td>272</td><td>4</td><td>0</td><td>1</td><td>0</td><td>&quot;sales&quot;</td><td>&quot;medium&quot;</td></tr><tr><td>0.72</td><td>0.87</td><td>5</td><td>223</td><td>5</td><td>0</td><td>1</td><td>0</td><td>&quot;sales&quot;</td><td>&quot;low&quot;</td></tr><tr><td>0.37</td><td>0.52</td><td>2</td><td>159</td><td>3</td><td>0</td><td>1</td><td>0</td><td>&quot;sales&quot;</td><td>&quot;low&quot;</td></tr></tbody></table></div>"
      ],
      "text/plain": [
       "shape: (5, 10)\n",
       "┌─────────────┬────────────┬────────────┬────────────┬───┬──────┬────────────┬────────────┬────────┐\n",
       "│ satisfactio ┆ last_evalu ┆ number_pro ┆ average_mo ┆ … ┆ left ┆ promotion_ ┆ Department ┆ salary │\n",
       "│ n_level     ┆ ation      ┆ ject       ┆ ntly_hours ┆   ┆ ---  ┆ last_5year ┆ ---        ┆ ---    │\n",
       "│ ---         ┆ ---        ┆ ---        ┆ ---        ┆   ┆ i64  ┆ s          ┆ str        ┆ str    │\n",
       "│ f64         ┆ f64        ┆ i64        ┆ i64        ┆   ┆      ┆ ---        ┆            ┆        │\n",
       "│             ┆            ┆            ┆            ┆   ┆      ┆ i64        ┆            ┆        │\n",
       "╞═════════════╪════════════╪════════════╪════════════╪═══╪══════╪════════════╪════════════╪════════╡\n",
       "│ 0.38        ┆ 0.53       ┆ 2          ┆ 157        ┆ … ┆ 1    ┆ 0          ┆ sales      ┆ low    │\n",
       "│ 0.8         ┆ 0.86       ┆ 5          ┆ 262        ┆ … ┆ 1    ┆ 0          ┆ sales      ┆ medium │\n",
       "│ 0.11        ┆ 0.88       ┆ 7          ┆ 272        ┆ … ┆ 1    ┆ 0          ┆ sales      ┆ medium │\n",
       "│ 0.72        ┆ 0.87       ┆ 5          ┆ 223        ┆ … ┆ 1    ┆ 0          ┆ sales      ┆ low    │\n",
       "│ 0.37        ┆ 0.52       ┆ 2          ┆ 159        ┆ … ┆ 1    ┆ 0          ┆ sales      ┆ low    │\n",
       "└─────────────┴────────────┴────────────┴────────────┴───┴──────┴────────────┴────────────┴────────┘"
      ]
     },
     "execution_count": 86,
     "metadata": {},
     "output_type": "execute_result"
    }
   ],
   "source": [
    "df.head()"
   ]
  },
  {
   "cell_type": "code",
   "execution_count": 87,
   "metadata": {},
   "outputs": [],
   "source": [
    "# Observations:\n",
    "# Satisfaction level is higher (0.66681) in those who remained (0) than those who left.\n",
    "# Avg monthly hours is lower (199 hrs) in those who remained.\n",
    "# Promotion number is higher (0.026) in those who remained.\n",
    "\n",
    "\n",
    "X = df[['satisfaction_level', 'average_montly_hours', 'promotion_last_5years', 'salary']]\n",
    "y = df['left']"
   ]
  },
  {
   "cell_type": "code",
   "execution_count": 88,
   "metadata": {},
   "outputs": [
    {
     "data": {
      "text/html": [
       "<div><style>\n",
       ".dataframe > thead > tr,\n",
       ".dataframe > tbody > tr {\n",
       "  text-align: right;\n",
       "  white-space: pre-wrap;\n",
       "}\n",
       "</style>\n",
       "<small>shape: (14_999, 6)</small><table border=\"1\" class=\"dataframe\"><thead><tr><th>satisfaction_level</th><th>average_montly_hours</th><th>promotion_last_5years</th><th>salary_high</th><th>salary_low</th><th>salary_medium</th></tr><tr><td>f64</td><td>i64</td><td>i64</td><td>u8</td><td>u8</td><td>u8</td></tr></thead><tbody><tr><td>0.38</td><td>157</td><td>0</td><td>0</td><td>1</td><td>0</td></tr><tr><td>0.8</td><td>262</td><td>0</td><td>0</td><td>0</td><td>1</td></tr><tr><td>0.11</td><td>272</td><td>0</td><td>0</td><td>0</td><td>1</td></tr><tr><td>0.72</td><td>223</td><td>0</td><td>0</td><td>1</td><td>0</td></tr><tr><td>0.37</td><td>159</td><td>0</td><td>0</td><td>1</td><td>0</td></tr><tr><td>&hellip;</td><td>&hellip;</td><td>&hellip;</td><td>&hellip;</td><td>&hellip;</td><td>&hellip;</td></tr><tr><td>0.4</td><td>151</td><td>0</td><td>0</td><td>1</td><td>0</td></tr><tr><td>0.37</td><td>160</td><td>0</td><td>0</td><td>1</td><td>0</td></tr><tr><td>0.37</td><td>143</td><td>0</td><td>0</td><td>1</td><td>0</td></tr><tr><td>0.11</td><td>280</td><td>0</td><td>0</td><td>1</td><td>0</td></tr><tr><td>0.37</td><td>158</td><td>0</td><td>0</td><td>1</td><td>0</td></tr></tbody></table></div>"
      ],
      "text/plain": [
       "shape: (14_999, 6)\n",
       "┌──────────────────┬──────────────────┬─────────────────┬─────────────┬────────────┬───────────────┐\n",
       "│ satisfaction_lev ┆ average_montly_h ┆ promotion_last_ ┆ salary_high ┆ salary_low ┆ salary_medium │\n",
       "│ el               ┆ ours             ┆ 5years          ┆ ---         ┆ ---        ┆ ---           │\n",
       "│ ---              ┆ ---              ┆ ---             ┆ u8          ┆ u8         ┆ u8            │\n",
       "│ f64              ┆ i64              ┆ i64             ┆             ┆            ┆               │\n",
       "╞══════════════════╪══════════════════╪═════════════════╪═════════════╪════════════╪═══════════════╡\n",
       "│ 0.38             ┆ 157              ┆ 0               ┆ 0           ┆ 1          ┆ 0             │\n",
       "│ 0.8              ┆ 262              ┆ 0               ┆ 0           ┆ 0          ┆ 1             │\n",
       "│ 0.11             ┆ 272              ┆ 0               ┆ 0           ┆ 0          ┆ 1             │\n",
       "│ 0.72             ┆ 223              ┆ 0               ┆ 0           ┆ 1          ┆ 0             │\n",
       "│ 0.37             ┆ 159              ┆ 0               ┆ 0           ┆ 1          ┆ 0             │\n",
       "│ …                ┆ …                ┆ …               ┆ …           ┆ …          ┆ …             │\n",
       "│ 0.4              ┆ 151              ┆ 0               ┆ 0           ┆ 1          ┆ 0             │\n",
       "│ 0.37             ┆ 160              ┆ 0               ┆ 0           ┆ 1          ┆ 0             │\n",
       "│ 0.37             ┆ 143              ┆ 0               ┆ 0           ┆ 1          ┆ 0             │\n",
       "│ 0.11             ┆ 280              ┆ 0               ┆ 0           ┆ 1          ┆ 0             │\n",
       "│ 0.37             ┆ 158              ┆ 0               ┆ 0           ┆ 1          ┆ 0             │\n",
       "└──────────────────┴──────────────────┴─────────────────┴─────────────┴────────────┴───────────────┘"
      ]
     },
     "execution_count": 88,
     "metadata": {},
     "output_type": "execute_result"
    }
   ],
   "source": [
    "# Hot Encode salary col\n",
    "X = X.to_dummies(columns=['salary'])\n",
    "X "
   ]
  },
  {
   "cell_type": "code",
   "execution_count": 89,
   "metadata": {},
   "outputs": [
    {
     "data": {
      "text/html": [
       "<div><style>\n",
       ".dataframe > thead > tr,\n",
       ".dataframe > tbody > tr {\n",
       "  text-align: right;\n",
       "  white-space: pre-wrap;\n",
       "}\n",
       "</style>\n",
       "<small>shape: (14_999, 5)</small><table border=\"1\" class=\"dataframe\"><thead><tr><th>satisfaction_level</th><th>average_montly_hours</th><th>promotion_last_5years</th><th>salary_high</th><th>salary_low</th></tr><tr><td>f64</td><td>i64</td><td>i64</td><td>u8</td><td>u8</td></tr></thead><tbody><tr><td>0.38</td><td>157</td><td>0</td><td>0</td><td>1</td></tr><tr><td>0.8</td><td>262</td><td>0</td><td>0</td><td>0</td></tr><tr><td>0.11</td><td>272</td><td>0</td><td>0</td><td>0</td></tr><tr><td>0.72</td><td>223</td><td>0</td><td>0</td><td>1</td></tr><tr><td>0.37</td><td>159</td><td>0</td><td>0</td><td>1</td></tr><tr><td>&hellip;</td><td>&hellip;</td><td>&hellip;</td><td>&hellip;</td><td>&hellip;</td></tr><tr><td>0.4</td><td>151</td><td>0</td><td>0</td><td>1</td></tr><tr><td>0.37</td><td>160</td><td>0</td><td>0</td><td>1</td></tr><tr><td>0.37</td><td>143</td><td>0</td><td>0</td><td>1</td></tr><tr><td>0.11</td><td>280</td><td>0</td><td>0</td><td>1</td></tr><tr><td>0.37</td><td>158</td><td>0</td><td>0</td><td>1</td></tr></tbody></table></div>"
      ],
      "text/plain": [
       "shape: (14_999, 5)\n",
       "┌────────────────────┬──────────────────────┬───────────────────────┬─────────────┬────────────┐\n",
       "│ satisfaction_level ┆ average_montly_hours ┆ promotion_last_5years ┆ salary_high ┆ salary_low │\n",
       "│ ---                ┆ ---                  ┆ ---                   ┆ ---         ┆ ---        │\n",
       "│ f64                ┆ i64                  ┆ i64                   ┆ u8          ┆ u8         │\n",
       "╞════════════════════╪══════════════════════╪═══════════════════════╪═════════════╪════════════╡\n",
       "│ 0.38               ┆ 157                  ┆ 0                     ┆ 0           ┆ 1          │\n",
       "│ 0.8                ┆ 262                  ┆ 0                     ┆ 0           ┆ 0          │\n",
       "│ 0.11               ┆ 272                  ┆ 0                     ┆ 0           ┆ 0          │\n",
       "│ 0.72               ┆ 223                  ┆ 0                     ┆ 0           ┆ 1          │\n",
       "│ 0.37               ┆ 159                  ┆ 0                     ┆ 0           ┆ 1          │\n",
       "│ …                  ┆ …                    ┆ …                     ┆ …           ┆ …          │\n",
       "│ 0.4                ┆ 151                  ┆ 0                     ┆ 0           ┆ 1          │\n",
       "│ 0.37               ┆ 160                  ┆ 0                     ┆ 0           ┆ 1          │\n",
       "│ 0.37               ┆ 143                  ┆ 0                     ┆ 0           ┆ 1          │\n",
       "│ 0.11               ┆ 280                  ┆ 0                     ┆ 0           ┆ 1          │\n",
       "│ 0.37               ┆ 158                  ┆ 0                     ┆ 0           ┆ 1          │\n",
       "└────────────────────┴──────────────────────┴───────────────────────┴─────────────┴────────────┘"
      ]
     },
     "execution_count": 89,
     "metadata": {},
     "output_type": "execute_result"
    }
   ],
   "source": [
    "X = X.drop('salary_medium')\n",
    "X "
   ]
  },
  {
   "cell_type": "code",
   "execution_count": 90,
   "metadata": {},
   "outputs": [],
   "source": [
    "X_train, X_test, y_train, y_test = train_test_split(X, y, test_size=0.3)"
   ]
  },
  {
   "cell_type": "code",
   "execution_count": 91,
   "metadata": {},
   "outputs": [
    {
     "data": {
      "text/plain": [
       "(10499, 5)"
      ]
     },
     "execution_count": 91,
     "metadata": {},
     "output_type": "execute_result"
    }
   ],
   "source": [
    "X_train.shape"
   ]
  },
  {
   "cell_type": "code",
   "execution_count": 92,
   "metadata": {},
   "outputs": [
    {
     "data": {
      "text/plain": [
       "(4500, 5)"
      ]
     },
     "execution_count": 92,
     "metadata": {},
     "output_type": "execute_result"
    }
   ],
   "source": [
    "X_test.shape"
   ]
  },
  {
   "cell_type": "code",
   "execution_count": 93,
   "metadata": {},
   "outputs": [],
   "source": [
    "model = LogisticRegression()"
   ]
  },
  {
   "cell_type": "code",
   "execution_count": 94,
   "metadata": {},
   "outputs": [
    {
     "data": {
      "text/html": [
       "<style>#sk-container-id-3 {\n",
       "  /* Definition of color scheme common for light and dark mode */\n",
       "  --sklearn-color-text: black;\n",
       "  --sklearn-color-line: gray;\n",
       "  /* Definition of color scheme for unfitted estimators */\n",
       "  --sklearn-color-unfitted-level-0: #fff5e6;\n",
       "  --sklearn-color-unfitted-level-1: #f6e4d2;\n",
       "  --sklearn-color-unfitted-level-2: #ffe0b3;\n",
       "  --sklearn-color-unfitted-level-3: chocolate;\n",
       "  /* Definition of color scheme for fitted estimators */\n",
       "  --sklearn-color-fitted-level-0: #f0f8ff;\n",
       "  --sklearn-color-fitted-level-1: #d4ebff;\n",
       "  --sklearn-color-fitted-level-2: #b3dbfd;\n",
       "  --sklearn-color-fitted-level-3: cornflowerblue;\n",
       "\n",
       "  /* Specific color for light theme */\n",
       "  --sklearn-color-text-on-default-background: var(--sg-text-color, var(--theme-code-foreground, var(--jp-content-font-color1, black)));\n",
       "  --sklearn-color-background: var(--sg-background-color, var(--theme-background, var(--jp-layout-color0, white)));\n",
       "  --sklearn-color-border-box: var(--sg-text-color, var(--theme-code-foreground, var(--jp-content-font-color1, black)));\n",
       "  --sklearn-color-icon: #696969;\n",
       "\n",
       "  @media (prefers-color-scheme: dark) {\n",
       "    /* Redefinition of color scheme for dark theme */\n",
       "    --sklearn-color-text-on-default-background: var(--sg-text-color, var(--theme-code-foreground, var(--jp-content-font-color1, white)));\n",
       "    --sklearn-color-background: var(--sg-background-color, var(--theme-background, var(--jp-layout-color0, #111)));\n",
       "    --sklearn-color-border-box: var(--sg-text-color, var(--theme-code-foreground, var(--jp-content-font-color1, white)));\n",
       "    --sklearn-color-icon: #878787;\n",
       "  }\n",
       "}\n",
       "\n",
       "#sk-container-id-3 {\n",
       "  color: var(--sklearn-color-text);\n",
       "}\n",
       "\n",
       "#sk-container-id-3 pre {\n",
       "  padding: 0;\n",
       "}\n",
       "\n",
       "#sk-container-id-3 input.sk-hidden--visually {\n",
       "  border: 0;\n",
       "  clip: rect(1px 1px 1px 1px);\n",
       "  clip: rect(1px, 1px, 1px, 1px);\n",
       "  height: 1px;\n",
       "  margin: -1px;\n",
       "  overflow: hidden;\n",
       "  padding: 0;\n",
       "  position: absolute;\n",
       "  width: 1px;\n",
       "}\n",
       "\n",
       "#sk-container-id-3 div.sk-dashed-wrapped {\n",
       "  border: 1px dashed var(--sklearn-color-line);\n",
       "  margin: 0 0.4em 0.5em 0.4em;\n",
       "  box-sizing: border-box;\n",
       "  padding-bottom: 0.4em;\n",
       "  background-color: var(--sklearn-color-background);\n",
       "}\n",
       "\n",
       "#sk-container-id-3 div.sk-container {\n",
       "  /* jupyter's `normalize.less` sets `[hidden] { display: none; }`\n",
       "     but bootstrap.min.css set `[hidden] { display: none !important; }`\n",
       "     so we also need the `!important` here to be able to override the\n",
       "     default hidden behavior on the sphinx rendered scikit-learn.org.\n",
       "     See: https://github.com/scikit-learn/scikit-learn/issues/21755 */\n",
       "  display: inline-block !important;\n",
       "  position: relative;\n",
       "}\n",
       "\n",
       "#sk-container-id-3 div.sk-text-repr-fallback {\n",
       "  display: none;\n",
       "}\n",
       "\n",
       "div.sk-parallel-item,\n",
       "div.sk-serial,\n",
       "div.sk-item {\n",
       "  /* draw centered vertical line to link estimators */\n",
       "  background-image: linear-gradient(var(--sklearn-color-text-on-default-background), var(--sklearn-color-text-on-default-background));\n",
       "  background-size: 2px 100%;\n",
       "  background-repeat: no-repeat;\n",
       "  background-position: center center;\n",
       "}\n",
       "\n",
       "/* Parallel-specific style estimator block */\n",
       "\n",
       "#sk-container-id-3 div.sk-parallel-item::after {\n",
       "  content: \"\";\n",
       "  width: 100%;\n",
       "  border-bottom: 2px solid var(--sklearn-color-text-on-default-background);\n",
       "  flex-grow: 1;\n",
       "}\n",
       "\n",
       "#sk-container-id-3 div.sk-parallel {\n",
       "  display: flex;\n",
       "  align-items: stretch;\n",
       "  justify-content: center;\n",
       "  background-color: var(--sklearn-color-background);\n",
       "  position: relative;\n",
       "}\n",
       "\n",
       "#sk-container-id-3 div.sk-parallel-item {\n",
       "  display: flex;\n",
       "  flex-direction: column;\n",
       "}\n",
       "\n",
       "#sk-container-id-3 div.sk-parallel-item:first-child::after {\n",
       "  align-self: flex-end;\n",
       "  width: 50%;\n",
       "}\n",
       "\n",
       "#sk-container-id-3 div.sk-parallel-item:last-child::after {\n",
       "  align-self: flex-start;\n",
       "  width: 50%;\n",
       "}\n",
       "\n",
       "#sk-container-id-3 div.sk-parallel-item:only-child::after {\n",
       "  width: 0;\n",
       "}\n",
       "\n",
       "/* Serial-specific style estimator block */\n",
       "\n",
       "#sk-container-id-3 div.sk-serial {\n",
       "  display: flex;\n",
       "  flex-direction: column;\n",
       "  align-items: center;\n",
       "  background-color: var(--sklearn-color-background);\n",
       "  padding-right: 1em;\n",
       "  padding-left: 1em;\n",
       "}\n",
       "\n",
       "\n",
       "/* Toggleable style: style used for estimator/Pipeline/ColumnTransformer box that is\n",
       "clickable and can be expanded/collapsed.\n",
       "- Pipeline and ColumnTransformer use this feature and define the default style\n",
       "- Estimators will overwrite some part of the style using the `sk-estimator` class\n",
       "*/\n",
       "\n",
       "/* Pipeline and ColumnTransformer style (default) */\n",
       "\n",
       "#sk-container-id-3 div.sk-toggleable {\n",
       "  /* Default theme specific background. It is overwritten whether we have a\n",
       "  specific estimator or a Pipeline/ColumnTransformer */\n",
       "  background-color: var(--sklearn-color-background);\n",
       "}\n",
       "\n",
       "/* Toggleable label */\n",
       "#sk-container-id-3 label.sk-toggleable__label {\n",
       "  cursor: pointer;\n",
       "  display: block;\n",
       "  width: 100%;\n",
       "  margin-bottom: 0;\n",
       "  padding: 0.5em;\n",
       "  box-sizing: border-box;\n",
       "  text-align: center;\n",
       "}\n",
       "\n",
       "#sk-container-id-3 label.sk-toggleable__label-arrow:before {\n",
       "  /* Arrow on the left of the label */\n",
       "  content: \"▸\";\n",
       "  float: left;\n",
       "  margin-right: 0.25em;\n",
       "  color: var(--sklearn-color-icon);\n",
       "}\n",
       "\n",
       "#sk-container-id-3 label.sk-toggleable__label-arrow:hover:before {\n",
       "  color: var(--sklearn-color-text);\n",
       "}\n",
       "\n",
       "/* Toggleable content - dropdown */\n",
       "\n",
       "#sk-container-id-3 div.sk-toggleable__content {\n",
       "  max-height: 0;\n",
       "  max-width: 0;\n",
       "  overflow: hidden;\n",
       "  text-align: left;\n",
       "  /* unfitted */\n",
       "  background-color: var(--sklearn-color-unfitted-level-0);\n",
       "}\n",
       "\n",
       "#sk-container-id-3 div.sk-toggleable__content.fitted {\n",
       "  /* fitted */\n",
       "  background-color: var(--sklearn-color-fitted-level-0);\n",
       "}\n",
       "\n",
       "#sk-container-id-3 div.sk-toggleable__content pre {\n",
       "  margin: 0.2em;\n",
       "  border-radius: 0.25em;\n",
       "  color: var(--sklearn-color-text);\n",
       "  /* unfitted */\n",
       "  background-color: var(--sklearn-color-unfitted-level-0);\n",
       "}\n",
       "\n",
       "#sk-container-id-3 div.sk-toggleable__content.fitted pre {\n",
       "  /* unfitted */\n",
       "  background-color: var(--sklearn-color-fitted-level-0);\n",
       "}\n",
       "\n",
       "#sk-container-id-3 input.sk-toggleable__control:checked~div.sk-toggleable__content {\n",
       "  /* Expand drop-down */\n",
       "  max-height: 200px;\n",
       "  max-width: 100%;\n",
       "  overflow: auto;\n",
       "}\n",
       "\n",
       "#sk-container-id-3 input.sk-toggleable__control:checked~label.sk-toggleable__label-arrow:before {\n",
       "  content: \"▾\";\n",
       "}\n",
       "\n",
       "/* Pipeline/ColumnTransformer-specific style */\n",
       "\n",
       "#sk-container-id-3 div.sk-label input.sk-toggleable__control:checked~label.sk-toggleable__label {\n",
       "  color: var(--sklearn-color-text);\n",
       "  background-color: var(--sklearn-color-unfitted-level-2);\n",
       "}\n",
       "\n",
       "#sk-container-id-3 div.sk-label.fitted input.sk-toggleable__control:checked~label.sk-toggleable__label {\n",
       "  background-color: var(--sklearn-color-fitted-level-2);\n",
       "}\n",
       "\n",
       "/* Estimator-specific style */\n",
       "\n",
       "/* Colorize estimator box */\n",
       "#sk-container-id-3 div.sk-estimator input.sk-toggleable__control:checked~label.sk-toggleable__label {\n",
       "  /* unfitted */\n",
       "  background-color: var(--sklearn-color-unfitted-level-2);\n",
       "}\n",
       "\n",
       "#sk-container-id-3 div.sk-estimator.fitted input.sk-toggleable__control:checked~label.sk-toggleable__label {\n",
       "  /* fitted */\n",
       "  background-color: var(--sklearn-color-fitted-level-2);\n",
       "}\n",
       "\n",
       "#sk-container-id-3 div.sk-label label.sk-toggleable__label,\n",
       "#sk-container-id-3 div.sk-label label {\n",
       "  /* The background is the default theme color */\n",
       "  color: var(--sklearn-color-text-on-default-background);\n",
       "}\n",
       "\n",
       "/* On hover, darken the color of the background */\n",
       "#sk-container-id-3 div.sk-label:hover label.sk-toggleable__label {\n",
       "  color: var(--sklearn-color-text);\n",
       "  background-color: var(--sklearn-color-unfitted-level-2);\n",
       "}\n",
       "\n",
       "/* Label box, darken color on hover, fitted */\n",
       "#sk-container-id-3 div.sk-label.fitted:hover label.sk-toggleable__label.fitted {\n",
       "  color: var(--sklearn-color-text);\n",
       "  background-color: var(--sklearn-color-fitted-level-2);\n",
       "}\n",
       "\n",
       "/* Estimator label */\n",
       "\n",
       "#sk-container-id-3 div.sk-label label {\n",
       "  font-family: monospace;\n",
       "  font-weight: bold;\n",
       "  display: inline-block;\n",
       "  line-height: 1.2em;\n",
       "}\n",
       "\n",
       "#sk-container-id-3 div.sk-label-container {\n",
       "  text-align: center;\n",
       "}\n",
       "\n",
       "/* Estimator-specific */\n",
       "#sk-container-id-3 div.sk-estimator {\n",
       "  font-family: monospace;\n",
       "  border: 1px dotted var(--sklearn-color-border-box);\n",
       "  border-radius: 0.25em;\n",
       "  box-sizing: border-box;\n",
       "  margin-bottom: 0.5em;\n",
       "  /* unfitted */\n",
       "  background-color: var(--sklearn-color-unfitted-level-0);\n",
       "}\n",
       "\n",
       "#sk-container-id-3 div.sk-estimator.fitted {\n",
       "  /* fitted */\n",
       "  background-color: var(--sklearn-color-fitted-level-0);\n",
       "}\n",
       "\n",
       "/* on hover */\n",
       "#sk-container-id-3 div.sk-estimator:hover {\n",
       "  /* unfitted */\n",
       "  background-color: var(--sklearn-color-unfitted-level-2);\n",
       "}\n",
       "\n",
       "#sk-container-id-3 div.sk-estimator.fitted:hover {\n",
       "  /* fitted */\n",
       "  background-color: var(--sklearn-color-fitted-level-2);\n",
       "}\n",
       "\n",
       "/* Specification for estimator info (e.g. \"i\" and \"?\") */\n",
       "\n",
       "/* Common style for \"i\" and \"?\" */\n",
       "\n",
       ".sk-estimator-doc-link,\n",
       "a:link.sk-estimator-doc-link,\n",
       "a:visited.sk-estimator-doc-link {\n",
       "  float: right;\n",
       "  font-size: smaller;\n",
       "  line-height: 1em;\n",
       "  font-family: monospace;\n",
       "  background-color: var(--sklearn-color-background);\n",
       "  border-radius: 1em;\n",
       "  height: 1em;\n",
       "  width: 1em;\n",
       "  text-decoration: none !important;\n",
       "  margin-left: 1ex;\n",
       "  /* unfitted */\n",
       "  border: var(--sklearn-color-unfitted-level-1) 1pt solid;\n",
       "  color: var(--sklearn-color-unfitted-level-1);\n",
       "}\n",
       "\n",
       ".sk-estimator-doc-link.fitted,\n",
       "a:link.sk-estimator-doc-link.fitted,\n",
       "a:visited.sk-estimator-doc-link.fitted {\n",
       "  /* fitted */\n",
       "  border: var(--sklearn-color-fitted-level-1) 1pt solid;\n",
       "  color: var(--sklearn-color-fitted-level-1);\n",
       "}\n",
       "\n",
       "/* On hover */\n",
       "div.sk-estimator:hover .sk-estimator-doc-link:hover,\n",
       ".sk-estimator-doc-link:hover,\n",
       "div.sk-label-container:hover .sk-estimator-doc-link:hover,\n",
       ".sk-estimator-doc-link:hover {\n",
       "  /* unfitted */\n",
       "  background-color: var(--sklearn-color-unfitted-level-3);\n",
       "  color: var(--sklearn-color-background);\n",
       "  text-decoration: none;\n",
       "}\n",
       "\n",
       "div.sk-estimator.fitted:hover .sk-estimator-doc-link.fitted:hover,\n",
       ".sk-estimator-doc-link.fitted:hover,\n",
       "div.sk-label-container:hover .sk-estimator-doc-link.fitted:hover,\n",
       ".sk-estimator-doc-link.fitted:hover {\n",
       "  /* fitted */\n",
       "  background-color: var(--sklearn-color-fitted-level-3);\n",
       "  color: var(--sklearn-color-background);\n",
       "  text-decoration: none;\n",
       "}\n",
       "\n",
       "/* Span, style for the box shown on hovering the info icon */\n",
       ".sk-estimator-doc-link span {\n",
       "  display: none;\n",
       "  z-index: 9999;\n",
       "  position: relative;\n",
       "  font-weight: normal;\n",
       "  right: .2ex;\n",
       "  padding: .5ex;\n",
       "  margin: .5ex;\n",
       "  width: min-content;\n",
       "  min-width: 20ex;\n",
       "  max-width: 50ex;\n",
       "  color: var(--sklearn-color-text);\n",
       "  box-shadow: 2pt 2pt 4pt #999;\n",
       "  /* unfitted */\n",
       "  background: var(--sklearn-color-unfitted-level-0);\n",
       "  border: .5pt solid var(--sklearn-color-unfitted-level-3);\n",
       "}\n",
       "\n",
       ".sk-estimator-doc-link.fitted span {\n",
       "  /* fitted */\n",
       "  background: var(--sklearn-color-fitted-level-0);\n",
       "  border: var(--sklearn-color-fitted-level-3);\n",
       "}\n",
       "\n",
       ".sk-estimator-doc-link:hover span {\n",
       "  display: block;\n",
       "}\n",
       "\n",
       "/* \"?\"-specific style due to the `<a>` HTML tag */\n",
       "\n",
       "#sk-container-id-3 a.estimator_doc_link {\n",
       "  float: right;\n",
       "  font-size: 1rem;\n",
       "  line-height: 1em;\n",
       "  font-family: monospace;\n",
       "  background-color: var(--sklearn-color-background);\n",
       "  border-radius: 1rem;\n",
       "  height: 1rem;\n",
       "  width: 1rem;\n",
       "  text-decoration: none;\n",
       "  /* unfitted */\n",
       "  color: var(--sklearn-color-unfitted-level-1);\n",
       "  border: var(--sklearn-color-unfitted-level-1) 1pt solid;\n",
       "}\n",
       "\n",
       "#sk-container-id-3 a.estimator_doc_link.fitted {\n",
       "  /* fitted */\n",
       "  border: var(--sklearn-color-fitted-level-1) 1pt solid;\n",
       "  color: var(--sklearn-color-fitted-level-1);\n",
       "}\n",
       "\n",
       "/* On hover */\n",
       "#sk-container-id-3 a.estimator_doc_link:hover {\n",
       "  /* unfitted */\n",
       "  background-color: var(--sklearn-color-unfitted-level-3);\n",
       "  color: var(--sklearn-color-background);\n",
       "  text-decoration: none;\n",
       "}\n",
       "\n",
       "#sk-container-id-3 a.estimator_doc_link.fitted:hover {\n",
       "  /* fitted */\n",
       "  background-color: var(--sklearn-color-fitted-level-3);\n",
       "}\n",
       "</style><div id=\"sk-container-id-3\" class=\"sk-top-container\"><div class=\"sk-text-repr-fallback\"><pre>LogisticRegression()</pre><b>In a Jupyter environment, please rerun this cell to show the HTML representation or trust the notebook. <br />On GitHub, the HTML representation is unable to render, please try loading this page with nbviewer.org.</b></div><div class=\"sk-container\" hidden><div class=\"sk-item\"><div class=\"sk-estimator fitted sk-toggleable\"><input class=\"sk-toggleable__control sk-hidden--visually\" id=\"sk-estimator-id-3\" type=\"checkbox\" checked><label for=\"sk-estimator-id-3\" class=\"sk-toggleable__label fitted sk-toggleable__label-arrow fitted\">&nbsp;&nbsp;LogisticRegression<a class=\"sk-estimator-doc-link fitted\" rel=\"noreferrer\" target=\"_blank\" href=\"https://scikit-learn.org/1.5/modules/generated/sklearn.linear_model.LogisticRegression.html\">?<span>Documentation for LogisticRegression</span></a><span class=\"sk-estimator-doc-link fitted\">i<span>Fitted</span></span></label><div class=\"sk-toggleable__content fitted\"><pre>LogisticRegression()</pre></div> </div></div></div></div>"
      ],
      "text/plain": [
       "LogisticRegression()"
      ]
     },
     "execution_count": 94,
     "metadata": {},
     "output_type": "execute_result"
    }
   ],
   "source": [
    "model.fit(X_train, y_train)"
   ]
  },
  {
   "cell_type": "code",
   "execution_count": 95,
   "metadata": {},
   "outputs": [
    {
     "data": {
      "text/plain": [
       "array([0, 0, 0, ..., 0, 0, 0])"
      ]
     },
     "execution_count": 95,
     "metadata": {},
     "output_type": "execute_result"
    }
   ],
   "source": [
    "model.predict(X_test)"
   ]
  },
  {
   "cell_type": "code",
   "execution_count": 96,
   "metadata": {},
   "outputs": [
    {
     "data": {
      "text/plain": [
       "0.7662222222222222"
      ]
     },
     "execution_count": 96,
     "metadata": {},
     "output_type": "execute_result"
    }
   ],
   "source": [
    "model.score(X_test, y_test)"
   ]
  },
  {
   "cell_type": "code",
   "execution_count": null,
   "metadata": {},
   "outputs": [],
   "source": []
  }
 ],
 "metadata": {
  "kernelspec": {
   "display_name": "Python 3",
   "language": "python",
   "name": "python3"
  },
  "language_info": {
   "codemirror_mode": {
    "name": "ipython",
    "version": 3
   },
   "file_extension": ".py",
   "mimetype": "text/x-python",
   "name": "python",
   "nbconvert_exporter": "python",
   "pygments_lexer": "ipython3",
   "version": "3.12.1"
  }
 },
 "nbformat": 4,
 "nbformat_minor": 2
}
